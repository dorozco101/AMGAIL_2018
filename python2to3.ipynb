{
 "cells": [
  {
   "cell_type": "code",
   "execution_count": 14,
   "metadata": {},
   "outputs": [
    {
     "name": "stdout",
     "output_type": "stream",
     "text": [
      "hopper_er.bin\n"
     ]
    }
   ],
   "source": [
    "import pickle\n",
    "import os\n",
    "from ER import ER\n",
    "directory = 'python3_expert_trajectories/'\n",
    "if not os.path.exists(directory):\n",
    "    os.makedirs(directory)\n",
    "    \n",
    "root ='expert_trajectories/'\n",
    "for filename in os.listdir(root):\n",
    "    if filename.endswith(\".ipynb_checkpoints\"): \n",
    "        continue\n",
    "    print(filename)\n",
    "    with open(root+filename, 'rb') as f:\n",
    "        er = pickle.load(f, encoding='latin1') \n",
    "    with open(directory+filename, 'wb') as f:\n",
    "        pickle.dump(er, f)"
   ]
  },
  {
   "cell_type": "code",
   "execution_count": null,
   "metadata": {},
   "outputs": [],
   "source": []
  },
  {
   "cell_type": "code",
   "execution_count": null,
   "metadata": {},
   "outputs": [],
   "source": []
  }
 ],
 "metadata": {
  "kernelspec": {
   "display_name": "Python 3",
   "language": "python",
   "name": "python3"
  },
  "language_info": {
   "codemirror_mode": {
    "name": "ipython",
    "version": 3
   },
   "file_extension": ".py",
   "mimetype": "text/x-python",
   "name": "python",
   "nbconvert_exporter": "python",
   "pygments_lexer": "ipython3",
   "version": "3.6.4"
  }
 },
 "nbformat": 4,
 "nbformat_minor": 2
}
